{
 "cells": [
  {
   "cell_type": "code",
   "execution_count": 1,
   "metadata": {},
   "outputs": [],
   "source": [
    "import os\n",
    "os.environ[\"PYTHONIOENCODING\"] = \"utf-8\""
   ]
  },
  {
   "cell_type": "code",
   "execution_count": 2,
   "metadata": {},
   "outputs": [
    {
     "name": "stderr",
     "output_type": "stream",
     "text": [
      "/Users/majingyi/Downloads/H2M1/.venvH2/lib/python3.12/site-packages/tqdm/auto.py:21: TqdmWarning: IProgress not found. Please update jupyter and ipywidgets. See https://ipywidgets.readthedocs.io/en/stable/user_install.html\n",
      "  from .autonotebook import tqdm as notebook_tqdm\n"
     ]
    }
   ],
   "source": [
    "from transformers import pipeline\n",
    "from openai import OpenAI\n",
    "from dotenv import load_dotenv\n",
    "from langchain_openai import ChatOpenAI\n",
    "from langchain_core.prompts import ChatPromptTemplate\n",
    "from langchain_core.output_parsers import StrOutputParser"
   ]
  },
  {
   "cell_type": "code",
   "execution_count": 3,
   "metadata": {},
   "outputs": [
    {
     "data": {
      "text/plain": [
       "True"
      ]
     },
     "execution_count": 3,
     "metadata": {},
     "output_type": "execute_result"
    }
   ],
   "source": [
    "load_dotenv()"
   ]
  },
  {
   "cell_type": "code",
   "execution_count": 4,
   "metadata": {},
   "outputs": [],
   "source": [
    "def img2text(url):\n",
    "    img_to_text_pipe = pipeline(\"image-to-text\", model=\"Salesforce/blip-image-captioning-large\")\n",
    "    text = img_to_text_pipe(url)[0][\"generated_text\"]\n",
    "    # print(text)\n",
    "    return text"
   ]
  },
  {
   "cell_type": "code",
   "execution_count": 6,
   "metadata": {},
   "outputs": [
    {
     "name": "stderr",
     "output_type": "stream",
     "text": [
      "Hardware accelerator e.g. GPU is available in the environment, but no `device` argument is passed to the `Pipeline` object. Model will be on CPU.\n",
      "/Users/majingyi/Downloads/H2M1/.venvH2/lib/python3.12/site-packages/transformers/generation/utils.py:1220: UserWarning: Using the model-agnostic default `max_length` (=20) to control the generation length. We recommend setting `max_new_tokens` to control the maximum length of the generation.\n",
      "  warnings.warn(\n"
     ]
    },
    {
     "name": "stdout",
     "output_type": "stream",
     "text": [
      "there is a pink rose that is blooming in the garden\n"
     ]
    }
   ],
   "source": [
    "scenario = img2text(\"Flowers.jpg\")\n",
    "print(scenario)"
   ]
  },
  {
   "cell_type": "code",
   "execution_count": 7,
   "metadata": {},
   "outputs": [],
   "source": [
    "llm = ChatOpenAI(\n",
    "    model=\"gpt-4o\",\n",
    "    temperature=0.2,\n",
    "    max_tokens=200,\n",
    "    timeout=None,\n",
    "    max_retries=2\n",
    ")"
   ]
  },
  {
   "cell_type": "code",
   "execution_count": 8,
   "metadata": {},
   "outputs": [],
   "source": [
    "prompt = ChatPromptTemplate.from_messages(\n",
    "    [\n",
    "        (\n",
    "            \"system\",\n",
    "            \"You are an expert gardener. Provide detailed gardening advice. Use the following pieces of retrieved context to generate instructions based on the plants in the given scenario. Use a simple narrative structure to generate these instructions. Keep the response to less than 150 words.\",\n",
    "        ),\n",
    "        (\"human\", \"{scenario_lang}\"),\n",
    "    ]\n",
    ")"
   ]
  },
  {
   "cell_type": "code",
   "execution_count": 9,
   "metadata": {},
   "outputs": [
    {
     "data": {
      "text/plain": [
       "\"To ensure your pink rose continues to thrive and bloom beautifully, follow these steps:\\n\\n1. **Watering**: Roses require consistent moisture. Water deeply once a week, ensuring the soil is moist but not waterlogged. Early morning is the best time to water, reducing the risk of fungal diseases.\\n\\n2. **Pruning**: After blooming, prune spent flowers to encourage new growth. Cut just above a set of five leaves to promote healthy shoots.\\n\\n3. **Feeding**: Fertilize your rose with a balanced rose fertilizer every 4-6 weeks during the growing season. This will provide essential nutrients for continuous blooming.\\n\\n4. **Sunlight**: Ensure your rose receives at least 6 hours of sunlight daily. If it's shaded, consider relocating it to a sunnier spot.\\n\\n5. **Pest and Disease Control**: Regularly inspect for aphids or black spots. Use insecticidal soap or neem oil for pests and remove any diseased leaves promptly.\\n\\nBy\""
      ]
     },
     "execution_count": 9,
     "metadata": {},
     "output_type": "execute_result"
    }
   ],
   "source": [
    "chain = prompt | llm | StrOutputParser()\n",
    "\n",
    "chain.invoke({\n",
    "    \"scenario_lang\" : scenario\n",
    "})"
   ]
  },
  {
   "cell_type": "code",
   "execution_count": 10,
   "metadata": {},
   "outputs": [],
   "source": [
    "def textGeneration_langChain(msg,type):\n",
    "    \"\"\"\n",
    "    msg is the scenario for the text from the pic (hugging face model output);\n",
    "    type is the genre of the text- Light, Watering, Humidity, Temperture, Pruning, Propagation\n",
    "    \"\"\"\n",
    "    llm = ChatOpenAI(\n",
    "        model=\"gpt-4o\",\n",
    "        temperature=0.2,\n",
    "        max_tokens=200,\n",
    "        timeout=None,\n",
    "        max_retries=2\n",
    "    )\n",
    "\n",
    "    prompt = ChatPromptTemplate.from_messages(\n",
    "        [\n",
    "            (\n",
    "                \"system\",\n",
    "                \"You are an expert gardener in giving {suggestion_type} plants caring suggestions. Provide detailed gardening advice regarding {suggestion_type}. Use the following pieces of retrieved context to generate {suggestion_type} suggestions based on the plants in the given scenario. Use a simple narrative structure to generate these suggestions. Keep the suggestions to less than 150 words.\",\n",
    "            ),\n",
    "            (\n",
    "                \"human\", \n",
    "                \"{scenario_lang}\"\n",
    "            ),\n",
    "        ]\n",
    "    )\n",
    "\n",
    "    chain = prompt | llm | StrOutputParser()\n",
    "\n",
    "    out_message = chain.invoke({\n",
    "        \"suggestion_type\" : type,\n",
    "        \"scenario_lang\" : msg,\n",
    "    })\n",
    "\n",
    "    return out_message"
   ]
  },
  {
   "cell_type": "code",
   "execution_count": 11,
   "metadata": {},
   "outputs": [
    {
     "name": "stdout",
     "output_type": "stream",
     "text": [
      "To ensure your pink rose continues to thrive and bloom beautifully, it's important to provide it with the right amount of light. Roses generally require full sun, which means they need at least six to eight hours of direct sunlight each day. Position your rose bush in a spot where it can soak up the morning sun, as this helps to dry dew on the leaves and reduce the risk of fungal diseases.\n",
      "\n",
      "If your garden has partial shade, try to ensure that the rose receives the most sunlight during the morning and early afternoon. Avoid placing the rose in areas with dense shade, as insufficient light can lead to fewer blooms and weaker growth. Regularly check for any nearby plants or structures that might cast shadows and trim back any overhanging branches to maximize sunlight exposure. With the right light conditions, your pink rose will continue to flourish and brighten your garden.\n"
     ]
    }
   ],
   "source": [
    "suggestion = textGeneration_langChain(scenario,\"Light\")\n",
    "print(suggestion)"
   ]
  },
  {
   "cell_type": "code",
   "execution_count": 12,
   "metadata": {},
   "outputs": [],
   "source": [
    "def runModels_langchain(url, type):\n",
    "    scenario = img2text(url)\n",
    "    suggestion = textGeneration_langChain(scenario,type)\n",
    "    return([scenario,suggestion])"
   ]
  },
  {
   "cell_type": "code",
   "execution_count": 13,
   "metadata": {},
   "outputs": [
    {
     "name": "stderr",
     "output_type": "stream",
     "text": [
      "Hardware accelerator e.g. GPU is available in the environment, but no `device` argument is passed to the `Pipeline` object. Model will be on CPU.\n",
      "/Users/majingyi/Downloads/H2M1/.venvH2/lib/python3.12/site-packages/transformers/generation/utils.py:1220: UserWarning: Using the model-agnostic default `max_length` (=20) to control the generation length. We recommend setting `max_new_tokens` to control the maximum length of the generation.\n",
      "  warnings.warn(\n"
     ]
    },
    {
     "name": "stdout",
     "output_type": "stream",
     "text": [
      "To ensure your pink rose continues to thrive and bloom beautifully, it's important to provide it with the right amount of light. Roses generally require full sun, which means they need at least 6 to 8 hours of direct sunlight each day. This exposure helps them produce vibrant blooms and maintain healthy growth.\n",
      "\n",
      "If your garden has areas with partial shade, try to position the rose where it will receive the morning sun, as this is less intense and can help prevent issues like sunburn on the petals. However, avoid placing the rose in full shade, as this can lead to poor blooming and weak growth.\n",
      "\n",
      "Regularly check the surrounding plants to ensure they are not overshadowing your rose, and consider pruning nearby foliage if necessary to allow more light to reach it. With the right light conditions, your pink rose will continue to flourish and bring beauty to your garden.\n"
     ]
    }
   ],
   "source": [
    "(caption, suggestion) = runModels_langchain(\"Flowers.jpg\",\"Light\")\n",
    "print(suggestion)"
   ]
  }
 ],
 "metadata": {
  "kernelspec": {
   "display_name": ".venvH2",
   "language": "python",
   "name": "python3"
  },
  "language_info": {
   "codemirror_mode": {
    "name": "ipython",
    "version": 3
   },
   "file_extension": ".py",
   "mimetype": "text/x-python",
   "name": "python",
   "nbconvert_exporter": "python",
   "pygments_lexer": "ipython3",
   "version": "3.12.2"
  }
 },
 "nbformat": 4,
 "nbformat_minor": 2
}
