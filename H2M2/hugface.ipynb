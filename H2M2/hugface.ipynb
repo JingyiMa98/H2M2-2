{
 "cells": [
  {
   "cell_type": "code",
   "execution_count": 6,
   "metadata": {},
   "outputs": [],
   "source": [
    "import os\n",
    "os.environ[\"PYTHONIOENCODING\"] = \"utf-8\""
   ]
  },
  {
   "cell_type": "code",
   "execution_count": 7,
   "metadata": {},
   "outputs": [],
   "source": [
    "from transformers import pipeline\n",
    "from openai import OpenAI\n",
    "from dotenv import load_dotenv\n",
    "import os\n"
   ]
  },
  {
   "cell_type": "code",
   "execution_count": 8,
   "metadata": {},
   "outputs": [
    {
     "data": {
      "text/plain": [
       "True"
      ]
     },
     "execution_count": 8,
     "metadata": {},
     "output_type": "execute_result"
    }
   ],
   "source": [
    "load_dotenv()"
   ]
  },
  {
   "cell_type": "code",
   "execution_count": 9,
   "metadata": {},
   "outputs": [],
   "source": [
    "def img2text(url):\n",
    "    img_to_text_pipe = pipeline(\"image-to-text\", model=\"Salesforce/blip-image-captioning-large\")\n",
    "    text = img_to_text_pipe(url)[0][\"generated_text\"]\n",
    "    # print(text)\n",
    "    return text\n"
   ]
  },
  {
   "cell_type": "code",
   "execution_count": 10,
   "metadata": {},
   "outputs": [
    {
     "name": "stderr",
     "output_type": "stream",
     "text": [
      "Hardware accelerator e.g. GPU is available in the environment, but no `device` argument is passed to the `Pipeline` object. Model will be on CPU.\n",
      "/Users/majingyi/Downloads/H2M1/.venvH2/lib/python3.12/site-packages/transformers/generation/utils.py:1220: UserWarning: Using the model-agnostic default `max_length` (=20) to control the generation length. We recommend setting `max_new_tokens` to control the maximum length of the generation.\n",
      "  warnings.warn(\n"
     ]
    }
   ],
   "source": [
    "scenario = img2text(\"A.jpg\")"
   ]
  },
  {
   "cell_type": "code",
   "execution_count": 11,
   "metadata": {},
   "outputs": [],
   "source": [
    "def textGeneration(msg):\n",
    "    client = OpenAI()\n",
    "\n",
    "    msg_list = [\n",
    "        {\n",
    "            \"role\": \"system\", \n",
    "            \"content\": \"You are a renowned poet. Please write a beautiful and emotional poem that includes a title. The title should reflect the theme of the poem. Use vivid imagery, metaphors, and elegant language. The poem can be of any length, but should evoke deep emotions.\"\n",
    "        }\n",
    "    ]\n",
    "    msg_list.append(msg)\n",
    "\n",
    "    response = client.chat.completions.create(\n",
    "        model=\"gpt-4o-mini\",\n",
    "        temperature=0.7, \n",
    "        max_completion_tokens=300, \n",
    "        messages=msg_list\n",
    "    )\n",
    "    print(response)\n",
    "    out_message = response.choices[0].message.content\n",
    "    return out_message\n"
   ]
  },
  {
   "cell_type": "code",
   "execution_count": 12,
   "metadata": {},
   "outputs": [
    {
     "name": "stdout",
     "output_type": "stream",
     "text": [
      "ChatCompletion(id='chatcmpl-AP07wGFVwmB6MTl2cRR2DaMHxIpVP', choices=[Choice(finish_reason='length', index=0, logprobs=None, message=ChatCompletionMessage(content='**Whispers of the Stone Wall**\\n\\nUpon this weathered stone wall I lean,  \\nA sentinel to nature’s quiet grace,  \\nWhere the lake mirrors the sky’s sapphire sheen,  \\nAnd trees stand tall, cloaked in emerald lace.  \\n\\nThe sun, a golden brush, paints the water,  \\nRippling whispers of warmth on the breeze,  \\nEach wave a soft caress, a gentle daughter,  \\nKissing the banks, where heartache finds ease.  \\n\\nBeneath the canopy of whispering leaves,  \\nThe world unfolds in a tender embrace,  \\nEvery sigh of the wind, a tale that weaves  \\nThrough the fabric of time, in this sacred space.  \\n\\nThe willows weep their silver tears,  \\nA sorrowful dance, they sway and bend,  \\nAs shadows stretch long, dissolving fears,  \\nIn the twilight glow, where memories blend.  \\n\\nI watch as the sun dips low, a fiery sigh,  \\nA lover’s farewell to the day’s warm light,  \\nPainting the heavens with hues that defy,  \\nThe darkness that comes, a curtain of night.  \\n\\nYet here, on this stone, I feel the pulse of the earth,  \\nThe heartbeat of life in the stillness profound,  \\nAs crickets serenade the night’s quiet birth,  \\nAnd the lake holds the stars in its shimmering gown.  \\n\\nOh, how the moon bathes the world in its glow,  \\nCasting silver threads upon the restless tide,', refusal=None, role='assistant', audio=None, function_call=None, tool_calls=None))], created=1730522052, model='gpt-4o-mini-2024-07-18', object='chat.completion', service_tier=None, system_fingerprint='fp_0ba0d124f1', usage=CompletionUsage(completion_tokens=300, prompt_tokens=77, total_tokens=377, completion_tokens_details=CompletionTokensDetails(audio_tokens=None, reasoning_tokens=0), prompt_tokens_details=PromptTokensDetails(audio_tokens=None, cached_tokens=0)))\n",
      "**Whispers of the Stone Wall**\n",
      "\n",
      "Upon this weathered stone wall I lean,  \n",
      "A sentinel to nature’s quiet grace,  \n",
      "Where the lake mirrors the sky’s sapphire sheen,  \n",
      "And trees stand tall, cloaked in emerald lace.  \n",
      "\n",
      "The sun, a golden brush, paints the water,  \n",
      "Rippling whispers of warmth on the breeze,  \n",
      "Each wave a soft caress, a gentle daughter,  \n",
      "Kissing the banks, where heartache finds ease.  \n",
      "\n",
      "Beneath the canopy of whispering leaves,  \n",
      "The world unfolds in a tender embrace,  \n",
      "Every sigh of the wind, a tale that weaves  \n",
      "Through the fabric of time, in this sacred space.  \n",
      "\n",
      "The willows weep their silver tears,  \n",
      "A sorrowful dance, they sway and bend,  \n",
      "As shadows stretch long, dissolving fears,  \n",
      "In the twilight glow, where memories blend.  \n",
      "\n",
      "I watch as the sun dips low, a fiery sigh,  \n",
      "A lover’s farewell to the day’s warm light,  \n",
      "Painting the heavens with hues that defy,  \n",
      "The darkness that comes, a curtain of night.  \n",
      "\n",
      "Yet here, on this stone, I feel the pulse of the earth,  \n",
      "The heartbeat of life in the stillness profound,  \n",
      "As crickets serenade the night’s quiet birth,  \n",
      "And the lake holds the stars in its shimmering gown.  \n",
      "\n",
      "Oh, how the moon bathes the world in its glow,  \n",
      "Casting silver threads upon the restless tide,\n"
     ]
    }
   ],
   "source": [
    "msg = {\"role\": \"user\", \"content\": scenario}\n",
    "poem = textGeneration(msg)\n",
    "print(poem)"
   ]
  }
 ],
 "metadata": {
  "kernelspec": {
   "display_name": ".venvH2",
   "language": "python",
   "name": "python3"
  },
  "language_info": {
   "codemirror_mode": {
    "name": "ipython",
    "version": 3
   },
   "file_extension": ".py",
   "mimetype": "text/x-python",
   "name": "python",
   "nbconvert_exporter": "python",
   "pygments_lexer": "ipython3",
   "version": "3.12.2"
  }
 },
 "nbformat": 4,
 "nbformat_minor": 2
}
