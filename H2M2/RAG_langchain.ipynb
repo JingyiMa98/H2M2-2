{
 "cells": [
  {
   "cell_type": "markdown",
   "metadata": {},
   "source": [
    "## Data Cleaning"
   ]
  },
  {
   "cell_type": "code",
   "execution_count": 1,
   "metadata": {},
   "outputs": [],
   "source": [
    "import pandas as pd"
   ]
  },
  {
   "cell_type": "code",
   "execution_count": 2,
   "metadata": {},
   "outputs": [
    {
     "name": "stderr",
     "output_type": "stream",
     "text": [
      "/Users/majingyi/Downloads/H2M1/.venvH2/lib/python3.12/site-packages/tqdm/auto.py:21: TqdmWarning: IProgress not found. Please update jupyter and ipywidgets. See https://ipywidgets.readthedocs.io/en/stable/user_install.html\n",
      "  from .autonotebook import tqdm as notebook_tqdm\n"
     ]
    },
    {
     "data": {
      "text/html": [
       "<div>\n",
       "<style scoped>\n",
       "    .dataframe tbody tr th:only-of-type {\n",
       "        vertical-align: middle;\n",
       "    }\n",
       "\n",
       "    .dataframe tbody tr th {\n",
       "        vertical-align: top;\n",
       "    }\n",
       "\n",
       "    .dataframe thead th {\n",
       "        text-align: right;\n",
       "    }\n",
       "</style>\n",
       "<table border=\"1\" class=\"dataframe\">\n",
       "  <thead>\n",
       "    <tr style=\"text-align: right;\">\n",
       "      <th></th>\n",
       "      <th>Plant</th>\n",
       "      <th>Light</th>\n",
       "      <th>Watering</th>\n",
       "      <th>Humidity</th>\n",
       "      <th>Temperature</th>\n",
       "      <th>Fertilizer</th>\n",
       "      <th>Pruning</th>\n",
       "      <th>Propagation</th>\n",
       "      <th>Notes</th>\n",
       "      <th>Unnamed: 9</th>\n",
       "    </tr>\n",
       "  </thead>\n",
       "  <tbody>\n",
       "    <tr>\n",
       "      <th>0</th>\n",
       "      <td>Rosemary</td>\n",
       "      <td>\"Full sun\"</td>\n",
       "      <td>\"Moderate\"</td>\n",
       "      <td>\"Well-drained\"</td>\n",
       "      <td>\"Balanced\"</td>\n",
       "      <td>\"Warm\"</td>\n",
       "      <td>\"Low\"</td>\n",
       "      <td>\"Regularly\"</td>\n",
       "      <td>\"Cuttings\"</td>\n",
       "      <td>NaN</td>\n",
       "    </tr>\n",
       "    <tr>\n",
       "      <th>1</th>\n",
       "      <td>Lavender</td>\n",
       "      <td>\"Full sun\"</td>\n",
       "      <td>\"Moderate\"</td>\n",
       "      <td>\"Well-drained\"</td>\n",
       "      <td>\"Low\"</td>\n",
       "      <td>\"Warm\"</td>\n",
       "      <td>\"Low\"</td>\n",
       "      <td>\"After flowering\"</td>\n",
       "      <td>\"Cuttings\"</td>\n",
       "      <td>NaN</td>\n",
       "    </tr>\n",
       "    <tr>\n",
       "      <th>2</th>\n",
       "      <td>Sage</td>\n",
       "      <td>\"Full sun\"</td>\n",
       "      <td>\"Moderate\"</td>\n",
       "      <td>\"Well-drained\"</td>\n",
       "      <td>\"Low\"</td>\n",
       "      <td>\"Warm\"</td>\n",
       "      <td>\"Low\"</td>\n",
       "      <td>\"After flowering\"</td>\n",
       "      <td>\"Cuttings\"</td>\n",
       "      <td>NaN</td>\n",
       "    </tr>\n",
       "    <tr>\n",
       "      <th>3</th>\n",
       "      <td>Thyme</td>\n",
       "      <td>\"Full sun\"</td>\n",
       "      <td>\"Moderate\"</td>\n",
       "      <td>\"Well-drained\"</td>\n",
       "      <td>\"Low\"</td>\n",
       "      <td>\"Warm\"</td>\n",
       "      <td>\"Low\"</td>\n",
       "      <td>\"After flowering\"</td>\n",
       "      <td>\"Cuttings\"</td>\n",
       "      <td>NaN</td>\n",
       "    </tr>\n",
       "    <tr>\n",
       "      <th>4</th>\n",
       "      <td>Oregano</td>\n",
       "      <td>\"Full sun\"</td>\n",
       "      <td>\"Moderate\"</td>\n",
       "      <td>\"Well-drained\"</td>\n",
       "      <td>\"Low\"</td>\n",
       "      <td>\"Warm\"</td>\n",
       "      <td>\"Low\"</td>\n",
       "      <td>\"After flowering\"</td>\n",
       "      <td>\"Cuttings\"</td>\n",
       "      <td>NaN</td>\n",
       "    </tr>\n",
       "    <tr>\n",
       "      <th>5</th>\n",
       "      <td>Basil</td>\n",
       "      <td>\"Full sun\"</td>\n",
       "      <td>\"Regular\"</td>\n",
       "      <td>\"Well-drained\"</td>\n",
       "      <td>\"Balanced\"</td>\n",
       "      <td>\"Warm\"</td>\n",
       "      <td>\"Moderate\"</td>\n",
       "      <td>\"Pinch back\"</td>\n",
       "      <td>\"Seeds\"</td>\n",
       "      <td>NaN</td>\n",
       "    </tr>\n",
       "    <tr>\n",
       "      <th>6</th>\n",
       "      <td>Mint</td>\n",
       "      <td>\"Partial shade\"</td>\n",
       "      <td>\"Regular\"</td>\n",
       "      <td>\"Well-drained\"</td>\n",
       "      <td>\"Balanced\"</td>\n",
       "      <td>\"Cool\"</td>\n",
       "      <td>\"Moderate\"</td>\n",
       "      <td>\"Pinch back\"</td>\n",
       "      <td>\"Division\"</td>\n",
       "      <td>NaN</td>\n",
       "    </tr>\n",
       "    <tr>\n",
       "      <th>7</th>\n",
       "      <td>Parsley</td>\n",
       "      <td>\"Full sun\"</td>\n",
       "      <td>\"Regular\"</td>\n",
       "      <td>\"Well-drained\"</td>\n",
       "      <td>\"Balanced\"</td>\n",
       "      <td>\"Cool\"</td>\n",
       "      <td>\"Moderate\"</td>\n",
       "      <td>\"Pinch back\"</td>\n",
       "      <td>\"Seeds\"</td>\n",
       "      <td>NaN</td>\n",
       "    </tr>\n",
       "    <tr>\n",
       "      <th>8</th>\n",
       "      <td>Dill</td>\n",
       "      <td>\"Full sun\"</td>\n",
       "      <td>\"Regular\"</td>\n",
       "      <td>\"Well-drained\"</td>\n",
       "      <td>\"Balanced\"</td>\n",
       "      <td>\"Cool\"</td>\n",
       "      <td>\"Moderate\"</td>\n",
       "      <td>\"Pinch back\"</td>\n",
       "      <td>\"Seeds\"</td>\n",
       "      <td>NaN</td>\n",
       "    </tr>\n",
       "    <tr>\n",
       "      <th>9</th>\n",
       "      <td>Chives</td>\n",
       "      <td>\"Full sun\"</td>\n",
       "      <td>\"Moderate\"</td>\n",
       "      <td>\"Well-drained\"</td>\n",
       "      <td>\"Balanced\"</td>\n",
       "      <td>\"Cool\"</td>\n",
       "      <td>\"Moderate\"</td>\n",
       "      <td>\"Regularly\"</td>\n",
       "      <td>\"Division\"</td>\n",
       "      <td>NaN</td>\n",
       "    </tr>\n",
       "  </tbody>\n",
       "</table>\n",
       "</div>"
      ],
      "text/plain": [
       "      Plant            Light    Watering        Humidity Temperature  \\\n",
       "0  Rosemary       \"Full sun\"  \"Moderate\"  \"Well-drained\"  \"Balanced\"   \n",
       "1  Lavender       \"Full sun\"  \"Moderate\"  \"Well-drained\"       \"Low\"   \n",
       "2      Sage       \"Full sun\"  \"Moderate\"  \"Well-drained\"       \"Low\"   \n",
       "3     Thyme       \"Full sun\"  \"Moderate\"  \"Well-drained\"       \"Low\"   \n",
       "4   Oregano       \"Full sun\"  \"Moderate\"  \"Well-drained\"       \"Low\"   \n",
       "5     Basil       \"Full sun\"   \"Regular\"  \"Well-drained\"  \"Balanced\"   \n",
       "6      Mint  \"Partial shade\"   \"Regular\"  \"Well-drained\"  \"Balanced\"   \n",
       "7   Parsley       \"Full sun\"   \"Regular\"  \"Well-drained\"  \"Balanced\"   \n",
       "8      Dill       \"Full sun\"   \"Regular\"  \"Well-drained\"  \"Balanced\"   \n",
       "9    Chives       \"Full sun\"  \"Moderate\"  \"Well-drained\"  \"Balanced\"   \n",
       "\n",
       "  Fertilizer     Pruning        Propagation       Notes Unnamed: 9  \n",
       "0     \"Warm\"       \"Low\"        \"Regularly\"  \"Cuttings\"        NaN  \n",
       "1     \"Warm\"       \"Low\"  \"After flowering\"  \"Cuttings\"        NaN  \n",
       "2     \"Warm\"       \"Low\"  \"After flowering\"  \"Cuttings\"        NaN  \n",
       "3     \"Warm\"       \"Low\"  \"After flowering\"  \"Cuttings\"        NaN  \n",
       "4     \"Warm\"       \"Low\"  \"After flowering\"  \"Cuttings\"        NaN  \n",
       "5     \"Warm\"  \"Moderate\"       \"Pinch back\"     \"Seeds\"        NaN  \n",
       "6     \"Cool\"  \"Moderate\"       \"Pinch back\"  \"Division\"        NaN  \n",
       "7     \"Cool\"  \"Moderate\"       \"Pinch back\"     \"Seeds\"        NaN  \n",
       "8     \"Cool\"  \"Moderate\"       \"Pinch back\"     \"Seeds\"        NaN  \n",
       "9     \"Cool\"  \"Moderate\"        \"Regularly\"  \"Division\"        NaN  "
      ]
     },
     "execution_count": 2,
     "metadata": {},
     "output_type": "execute_result"
    }
   ],
   "source": [
    "df = pd.read_csv(\"hf://datasets/jibrand/Plant-dataset/plant_dataset.csv\")\n",
    "df.head(10)"
   ]
  },
  {
   "cell_type": "markdown",
   "metadata": {},
   "source": []
  },
  {
   "cell_type": "code",
   "execution_count": 3,
   "metadata": {},
   "outputs": [],
   "source": [
    "def write_stories_to_txt(df, output_file):\n",
    "    # Open the output file in write mode\n",
    "    with open(output_file, 'w') as f:\n",
    "        # Group the dataframe by 'Plant' (or any other column you choose)\n",
    "        grouped = df.groupby('Plant')\n",
    "        \n",
    "        # Loop through each plant and its corresponding rows\n",
    "        for plant, details in grouped:\n",
    "            # Write the plant name as a heading\n",
    "            f.write(f\"{plant}\\n\")\n",
    "            f.write(\"=\" * len(plant) + \"\\n\")  # Adding a separator line\n",
    "            \n",
    "            # Write each detail (row) for this plant\n",
    "            for _, row in details.iterrows():\n",
    "                f.write(f\"{row.to_dict()}\\n\\n\")  # Convert the row to a dictionary for better formatting\n",
    "            \n",
    "            # Add a couple of blank lines between different plant sections\n",
    "            f.write(\"\\n\\n\")\n",
    "\n",
    "    print(f\"Details have been written to {output_file}\")\n",
    "\n",
    "\n"
   ]
  },
  {
   "cell_type": "code",
   "execution_count": 4,
   "metadata": {},
   "outputs": [
    {
     "name": "stdout",
     "output_type": "stream",
     "text": [
      "Details have been written to plant_details.txt\n"
     ]
    }
   ],
   "source": [
    "write_stories_to_txt(df, \"plant_details.txt\")"
   ]
  },
  {
   "cell_type": "markdown",
   "metadata": {},
   "source": [
    "## RAG"
   ]
  },
  {
   "cell_type": "code",
   "execution_count": 5,
   "metadata": {},
   "outputs": [],
   "source": [
    "from langchain_openai import ChatOpenAI\n",
    "from langchain_core.prompts import ChatPromptTemplate\n",
    "from langchain_core.output_parsers import StrOutputParser\n",
    "\n",
    "from langchain_community.document_loaders import TextLoader #load the document\n",
    "from langchain_text_splitters import RecursiveCharacterTextSplitter #for creating chunks from the loaded document\n",
    "from langchain_openai import OpenAIEmbeddings #for converting chunks into embeddings\n",
    "from langchain_chroma import Chroma #database for stroring the embeddings"
   ]
  },
  {
   "cell_type": "code",
   "execution_count": 6,
   "metadata": {},
   "outputs": [
    {
     "data": {
      "text/plain": [
       "True"
      ]
     },
     "execution_count": 6,
     "metadata": {},
     "output_type": "execute_result"
    }
   ],
   "source": [
    "from dotenv import load_dotenv\n",
    "load_dotenv()"
   ]
  },
  {
   "cell_type": "code",
   "execution_count": 7,
   "metadata": {},
   "outputs": [
    {
     "name": "stdout",
     "output_type": "stream",
     "text": [
      "/Users/majingyi/Downloads/H2M1/chroma_db\n"
     ]
    }
   ],
   "source": [
    "import os\n",
    "dir = os.getcwd()\n",
    "db_dir = os.path.join(dir,\"chroma_db\")\n",
    "print(db_dir)"
   ]
  },
  {
   "cell_type": "markdown",
   "metadata": {},
   "source": [
    "### Create vector DB"
   ]
  },
  {
   "cell_type": "code",
   "execution_count": 8,
   "metadata": {},
   "outputs": [],
   "source": [
    "#Read the text content from the .txt file and load it as langchain document\n",
    "loader = TextLoader('stories.txt')\n",
    "document = loader.load()"
   ]
  },
  {
   "cell_type": "code",
   "execution_count": 9,
   "metadata": {},
   "outputs": [
    {
     "name": "stdout",
     "output_type": "stream",
     "text": [
      "Document chunk info:\n",
      "\n",
      "Number of document chunks: 3990\n",
      "Sample chunk: \n",
      "In the bustling city of Bustleton, where the traffic never seemed to move and the pigeons had perfected synchronized flying, lived a man named Bob. Bob had a peculiar talent—he could never seem to find his socks.  Every morning, Bob would rummage through his dresser drawers in search of a matching pair of socks, only to emerge with one polka-dotted sock and one striped sock. No matter how many times he bought new socks or organized his drawers, the socks seemed to vanish into thin air.  One day, in a fit of frustration, Bob decided to take matters into his own hands. He set up a surveillance camera in his bedroom to catch the elusive sock thief in action. But when he reviewed the footage the next morning, he discovered the culprit—his mischievous pet cat, Whiskers, who had been hoarding Bob's socks under the bed.  With a bemused smile, Bob realized that his sock-stealing cat was just another quirky aspect of life in Bustleton, where even the most mundane tasks could turn into comedic\n",
      "\n"
     ]
    }
   ],
   "source": [
    "#Split the document into chunks using text splitters \n",
    "text_splitter = RecursiveCharacterTextSplitter(chunk_size=1000, chunk_overlap=200)\n",
    "chunks = text_splitter.split_documents(document)\n",
    "\n",
    "print(\"Document chunk info:\\n\")\n",
    "print(f\"Number of document chunks: {len(chunks)}\")\n",
    "print(f\"Sample chunk: \\n{chunks[3].page_content}\\n\")"
   ]
  },
  {
   "cell_type": "code",
   "execution_count": 10,
   "metadata": {},
   "outputs": [],
   "source": [
    "#create embeddings using openAI embeddings\n",
    "embeddings = OpenAIEmbeddings(\n",
    "    model=\"text-embedding-3-small\"\n",
    ")"
   ]
  },
  {
   "cell_type": "code",
   "execution_count": 11,
   "metadata": {},
   "outputs": [
    {
     "data": {
      "text/plain": [
       "<langchain_chroma.vectorstores.Chroma at 0x1610ed910>"
      ]
     },
     "execution_count": 11,
     "metadata": {},
     "output_type": "execute_result"
    }
   ],
   "source": [
    "#store the embeddings and chunks into Chroma DB\n",
    "Chroma.from_documents(documents=chunks, embedding=embeddings, persist_directory=db_dir)"
   ]
  },
  {
   "cell_type": "markdown",
   "metadata": {},
   "source": [
    "### Retrieve and generate"
   ]
  },
  {
   "cell_type": "code",
   "execution_count": 12,
   "metadata": {},
   "outputs": [],
   "source": [
    "#setting up the DB for retrieval\n",
    "embeddings_used = OpenAIEmbeddings(model=\"text-embedding-3-small\")\n",
    "vectorDB = Chroma(persist_directory=db_dir,embedding_function=embeddings_used)"
   ]
  },
  {
   "cell_type": "code",
   "execution_count": 13,
   "metadata": {},
   "outputs": [],
   "source": [
    "#setting up Retriver\n",
    "retriever = vectorDB.as_retriever(search_type=\"similarity\", search_kwargs={\"k\": 3})"
   ]
  },
  {
   "cell_type": "code",
   "execution_count": 14,
   "metadata": {},
   "outputs": [],
   "source": [
    "def getRetriever(dir):\n",
    "    \"\"\"\n",
    "    dir is the directory of the vector DB\n",
    "    \"\"\"\n",
    "    embeddings_used = OpenAIEmbeddings(model=\"text-embedding-3-small\")\n",
    "    vectorDB = Chroma(persist_directory=dir,embedding_function=embeddings_used)\n",
    "    retriever = vectorDB.as_retriever(search_type=\"similarity\", search_kwargs={\"k\": 3})\n",
    "    return retriever"
   ]
  },
  {
   "cell_type": "code",
   "execution_count": 15,
   "metadata": {},
   "outputs": [],
   "source": [
    "def textGeneration_langChain_RAG(msg,type,retrieverDir):\n",
    "    \"\"\"\n",
    "    msg is the scenario for the text from the pic (hugging face model output);\n",
    "    type is the genre of the text- Light, Watering, Humidity, Temperture, Pruning, Propagation\n",
    "    retriever is the vector DB with relevant stories from txt version of \n",
    "        plants dataset from Hugging face - https://huggingface.co/datasets/jibrand/Plant-dataset\n",
    "    \"\"\"\n",
    "    llm = ChatOpenAI(\n",
    "            model=\"gpt-4o\",\n",
    "            temperature=0.2,\n",
    "            max_tokens=200,\n",
    "            timeout=None,\n",
    "            max_retries=2\n",
    "        )\n",
    "\n",
    "    system_prompt = (\n",
    "        \"You are an expert gardener in giving {suggestion_type} plants caring suggestions.\" \n",
    "        \"Provide detailed gardening advice regarding {suggestion_type}.\"\n",
    "        \"Use the following pieces of retrieved context to generate {suggestion_type} suggestions based on the plants in the given scenario.\"\n",
    "        \"Use a simple narrative structure to generate these suggestions.\"\n",
    "        \"keep the suggestions to less than 150 words.\"\n",
    "        \"\\n\\n\"\n",
    "        \"{context}\"\n",
    "    )\n",
    "\n",
    "    prompt = ChatPromptTemplate.from_messages(\n",
    "        [\n",
    "            (\"system\", system_prompt),\n",
    "            (\"human\", \"{scenario_lang}\"),\n",
    "        ]\n",
    "    )\n",
    "\n",
    "    rag_chain = prompt | llm | StrOutputParser()\n",
    "\n",
    "    retriever = getRetriever(retrieverDir)\n",
    "\n",
    "    out_message = rag_chain.invoke({\n",
    "            \"suggestion_type\" : type,\n",
    "            \"context\":retriever,\n",
    "            \"scenario_lang\" : msg,\n",
    "        })\n",
    "    \n",
    "    return out_message"
   ]
  },
  {
   "cell_type": "code",
   "execution_count": 16,
   "metadata": {},
   "outputs": [
    {
     "name": "stdout",
     "output_type": "stream",
     "text": [
      "Congratulations on your thriving strawberry plants! To ensure they continue to produce delicious fruit, proper watering is essential. Strawberries prefer consistent moisture, but they don't like to be waterlogged. Here’s how you can keep them happy:\n",
      "\n",
      "1. **Watering Schedule**: Water your strawberries in the early morning. This allows the foliage to dry during the day, reducing the risk of fungal diseases.\n",
      "\n",
      "2. **Soil Moisture**: Keep the soil consistently moist, but not soggy. Aim for about 1-1.5 inches of water per week, including rainfall. Use a rain gauge to track natural precipitation.\n",
      "\n",
      "3. **Mulching**: Apply a layer of mulch around the plants to help retain moisture, suppress weeds, and keep the fruit clean.\n",
      "\n",
      "4. **Drip Irrigation**: If possible, use drip irrigation or a soaker hose to deliver water directly to the roots, minimizing water contact with the leaves and fruit.\n",
      "\n",
      "By following these tips, your strawberries should continue\n"
     ]
    }
   ],
   "source": [
    "scenario = \"there are many ripe strawberries growing on the plant in the garden\" #example output from huggingface model\n",
    "suggestions = textGeneration_langChain_RAG(scenario,\"Watring\", db_dir)\n",
    "print(suggestions)"
   ]
  }
 ],
 "metadata": {
  "kernelspec": {
   "display_name": ".venvH2",
   "language": "python",
   "name": "python3"
  },
  "language_info": {
   "codemirror_mode": {
    "name": "ipython",
    "version": 3
   },
   "file_extension": ".py",
   "mimetype": "text/x-python",
   "name": "python",
   "nbconvert_exporter": "python",
   "pygments_lexer": "ipython3",
   "version": "3.12.2"
  }
 },
 "nbformat": 4,
 "nbformat_minor": 2
}
